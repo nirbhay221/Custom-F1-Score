{
  "nbformat": 4,
  "nbformat_minor": 0,
  "metadata": {
    "colab": {
      "name": "Untitled133.ipynb",
      "provenance": [],
      "collapsed_sections": []
    },
    "kernelspec": {
      "display_name": "Python 3",
      "name": "python3"
    }
  },
  "cells": [
    {
      "cell_type": "code",
      "metadata": {
        "id": "PeAuuuUmPVQ9"
      },
      "source": [
        "import tensorflow as tf\r\n",
        "import numpy as np\r\n",
        "import matplotlib.pyplot as plt\r\n",
        "import matplotlib.ticker as mticker\r\n",
        "from sklearn.metrics import confusion_matrix\r\n",
        "from sklearn.model_selection import train_test_split\r\n",
        "from tensorflow.keras.models import Model\r\n",
        "from tensorflow.keras.layers import Dense,Input\r\n",
        "import pandas as pd\r\n",
        "import tqdm as tqdm \r\n",
        "import tensorflow_datasets as tfds\r\n",
        "import itertools"
      ],
      "execution_count": null,
      "outputs": []
    },
    {
      "cell_type": "code",
      "metadata": {
        "id": "_FyBEr_qUf-t"
      },
      "source": [
        "data_url = \"https://archive.ics.uci.edu/ml/machine-learning-databases/breast-cancer-wisconsin/breast-cancer-wisconsin.data\"\r\n",
        "data_file = tf.keras.utils.get_file(\"breast_cancer.csv\",data_url)\r\n",
        "col_names = [\"id\", \"clump_thickness\", \"un_cell_size\", \"un_cell_shape\", \"marginal_adheshion\", \"single_eph_cell_size\", \"bare_nuclei\", \"bland_chromatin\", \"normal_nucleoli\", \"mitoses\", \"class\"]\r\n",
        "df = pd.read_csv(data_file,names=col_names,header=None)"
      ],
      "execution_count": null,
      "outputs": []
    },
    {
      "cell_type": "code",
      "metadata": {
        "colab": {
          "base_uri": "https://localhost:8080/",
          "height": 419
        },
        "id": "gfT3Y6h2NIVB",
        "outputId": "f44ec206-39de-47c8-8843-341721d423c2"
      },
      "source": [
        "df "
      ],
      "execution_count": null,
      "outputs": [
        {
          "output_type": "execute_result",
          "data": {
            "text/html": [
              "<div>\n",
              "<style scoped>\n",
              "    .dataframe tbody tr th:only-of-type {\n",
              "        vertical-align: middle;\n",
              "    }\n",
              "\n",
              "    .dataframe tbody tr th {\n",
              "        vertical-align: top;\n",
              "    }\n",
              "\n",
              "    .dataframe thead th {\n",
              "        text-align: right;\n",
              "    }\n",
              "</style>\n",
              "<table border=\"1\" class=\"dataframe\">\n",
              "  <thead>\n",
              "    <tr style=\"text-align: right;\">\n",
              "      <th></th>\n",
              "      <th>id</th>\n",
              "      <th>clump_thickness</th>\n",
              "      <th>un_cell_size</th>\n",
              "      <th>un_cell_shape</th>\n",
              "      <th>marginal_adheshion</th>\n",
              "      <th>single_eph_cell_size</th>\n",
              "      <th>bare_nuclei</th>\n",
              "      <th>bland_chromatin</th>\n",
              "      <th>normal_nucleoli</th>\n",
              "      <th>mitoses</th>\n",
              "      <th>class</th>\n",
              "    </tr>\n",
              "  </thead>\n",
              "  <tbody>\n",
              "    <tr>\n",
              "      <th>0</th>\n",
              "      <td>1000025</td>\n",
              "      <td>5</td>\n",
              "      <td>1</td>\n",
              "      <td>1</td>\n",
              "      <td>1</td>\n",
              "      <td>2</td>\n",
              "      <td>1</td>\n",
              "      <td>3</td>\n",
              "      <td>1</td>\n",
              "      <td>1</td>\n",
              "      <td>2</td>\n",
              "    </tr>\n",
              "    <tr>\n",
              "      <th>1</th>\n",
              "      <td>1002945</td>\n",
              "      <td>5</td>\n",
              "      <td>4</td>\n",
              "      <td>4</td>\n",
              "      <td>5</td>\n",
              "      <td>7</td>\n",
              "      <td>10</td>\n",
              "      <td>3</td>\n",
              "      <td>2</td>\n",
              "      <td>1</td>\n",
              "      <td>2</td>\n",
              "    </tr>\n",
              "    <tr>\n",
              "      <th>2</th>\n",
              "      <td>1015425</td>\n",
              "      <td>3</td>\n",
              "      <td>1</td>\n",
              "      <td>1</td>\n",
              "      <td>1</td>\n",
              "      <td>2</td>\n",
              "      <td>2</td>\n",
              "      <td>3</td>\n",
              "      <td>1</td>\n",
              "      <td>1</td>\n",
              "      <td>2</td>\n",
              "    </tr>\n",
              "    <tr>\n",
              "      <th>3</th>\n",
              "      <td>1016277</td>\n",
              "      <td>6</td>\n",
              "      <td>8</td>\n",
              "      <td>8</td>\n",
              "      <td>1</td>\n",
              "      <td>3</td>\n",
              "      <td>4</td>\n",
              "      <td>3</td>\n",
              "      <td>7</td>\n",
              "      <td>1</td>\n",
              "      <td>2</td>\n",
              "    </tr>\n",
              "    <tr>\n",
              "      <th>4</th>\n",
              "      <td>1017023</td>\n",
              "      <td>4</td>\n",
              "      <td>1</td>\n",
              "      <td>1</td>\n",
              "      <td>3</td>\n",
              "      <td>2</td>\n",
              "      <td>1</td>\n",
              "      <td>3</td>\n",
              "      <td>1</td>\n",
              "      <td>1</td>\n",
              "      <td>2</td>\n",
              "    </tr>\n",
              "    <tr>\n",
              "      <th>...</th>\n",
              "      <td>...</td>\n",
              "      <td>...</td>\n",
              "      <td>...</td>\n",
              "      <td>...</td>\n",
              "      <td>...</td>\n",
              "      <td>...</td>\n",
              "      <td>...</td>\n",
              "      <td>...</td>\n",
              "      <td>...</td>\n",
              "      <td>...</td>\n",
              "      <td>...</td>\n",
              "    </tr>\n",
              "    <tr>\n",
              "      <th>694</th>\n",
              "      <td>776715</td>\n",
              "      <td>3</td>\n",
              "      <td>1</td>\n",
              "      <td>1</td>\n",
              "      <td>1</td>\n",
              "      <td>3</td>\n",
              "      <td>2</td>\n",
              "      <td>1</td>\n",
              "      <td>1</td>\n",
              "      <td>1</td>\n",
              "      <td>2</td>\n",
              "    </tr>\n",
              "    <tr>\n",
              "      <th>695</th>\n",
              "      <td>841769</td>\n",
              "      <td>2</td>\n",
              "      <td>1</td>\n",
              "      <td>1</td>\n",
              "      <td>1</td>\n",
              "      <td>2</td>\n",
              "      <td>1</td>\n",
              "      <td>1</td>\n",
              "      <td>1</td>\n",
              "      <td>1</td>\n",
              "      <td>2</td>\n",
              "    </tr>\n",
              "    <tr>\n",
              "      <th>696</th>\n",
              "      <td>888820</td>\n",
              "      <td>5</td>\n",
              "      <td>10</td>\n",
              "      <td>10</td>\n",
              "      <td>3</td>\n",
              "      <td>7</td>\n",
              "      <td>3</td>\n",
              "      <td>8</td>\n",
              "      <td>10</td>\n",
              "      <td>2</td>\n",
              "      <td>4</td>\n",
              "    </tr>\n",
              "    <tr>\n",
              "      <th>697</th>\n",
              "      <td>897471</td>\n",
              "      <td>4</td>\n",
              "      <td>8</td>\n",
              "      <td>6</td>\n",
              "      <td>4</td>\n",
              "      <td>3</td>\n",
              "      <td>4</td>\n",
              "      <td>10</td>\n",
              "      <td>6</td>\n",
              "      <td>1</td>\n",
              "      <td>4</td>\n",
              "    </tr>\n",
              "    <tr>\n",
              "      <th>698</th>\n",
              "      <td>897471</td>\n",
              "      <td>4</td>\n",
              "      <td>8</td>\n",
              "      <td>8</td>\n",
              "      <td>5</td>\n",
              "      <td>4</td>\n",
              "      <td>5</td>\n",
              "      <td>10</td>\n",
              "      <td>4</td>\n",
              "      <td>1</td>\n",
              "      <td>4</td>\n",
              "    </tr>\n",
              "  </tbody>\n",
              "</table>\n",
              "<p>699 rows × 11 columns</p>\n",
              "</div>"
            ],
            "text/plain": [
              "          id  clump_thickness  un_cell_size  ...  normal_nucleoli  mitoses  class\n",
              "0    1000025                5             1  ...                1        1      2\n",
              "1    1002945                5             4  ...                2        1      2\n",
              "2    1015425                3             1  ...                1        1      2\n",
              "3    1016277                6             8  ...                7        1      2\n",
              "4    1017023                4             1  ...                1        1      2\n",
              "..       ...              ...           ...  ...              ...      ...    ...\n",
              "694   776715                3             1  ...                1        1      2\n",
              "695   841769                2             1  ...                1        1      2\n",
              "696   888820                5            10  ...               10        2      4\n",
              "697   897471                4             8  ...                6        1      4\n",
              "698   897471                4             8  ...                4        1      4\n",
              "\n",
              "[699 rows x 11 columns]"
            ]
          },
          "metadata": {
            "tags": []
          },
          "execution_count": 83
        }
      ]
    },
    {
      "cell_type": "code",
      "metadata": {
        "colab": {
          "base_uri": "https://localhost:8080/"
        },
        "id": "ZwL7BwBANpys",
        "outputId": "e6605085-8787-4684-eb87-fe29b082f7f6"
      },
      "source": [
        "df.pop('id')"
      ],
      "execution_count": null,
      "outputs": [
        {
          "output_type": "execute_result",
          "data": {
            "text/plain": [
              "0      1000025\n",
              "1      1002945\n",
              "2      1015425\n",
              "3      1016277\n",
              "4      1017023\n",
              "        ...   \n",
              "694     776715\n",
              "695     841769\n",
              "696     888820\n",
              "697     897471\n",
              "698     897471\n",
              "Name: id, Length: 699, dtype: int64"
            ]
          },
          "metadata": {
            "tags": []
          },
          "execution_count": 84
        }
      ]
    },
    {
      "cell_type": "code",
      "metadata": {
        "colab": {
          "base_uri": "https://localhost:8080/"
        },
        "id": "ZYpYHLprNvjq",
        "outputId": "7d14f304-51ad-40bc-dc67-2b70c8189aac"
      },
      "source": [
        "df = df[df['bare_nuclei'] != '?']\r\n",
        "df.bare_nuclei = pd.to_numeric(df.bare_nuclei)"
      ],
      "execution_count": null,
      "outputs": [
        {
          "output_type": "stream",
          "text": [
            "/usr/local/lib/python3.6/dist-packages/pandas/core/generic.py:5170: SettingWithCopyWarning: \n",
            "A value is trying to be set on a copy of a slice from a DataFrame.\n",
            "Try using .loc[row_indexer,col_indexer] = value instead\n",
            "\n",
            "See the caveats in the documentation: https://pandas.pydata.org/pandas-docs/stable/user_guide/indexing.html#returning-a-view-versus-a-copy\n",
            "  self[name] = value\n"
          ],
          "name": "stderr"
        }
      ]
    },
    {
      "cell_type": "code",
      "metadata": {
        "colab": {
          "base_uri": "https://localhost:8080/",
          "height": 469
        },
        "id": "Asj9cJSfOZm2",
        "outputId": "31efac4d-bb6e-4e4a-d679-eaad5ce173e3"
      },
      "source": [
        "df['class'].hist(bins=20)\r\n",
        "df['class']"
      ],
      "execution_count": null,
      "outputs": [
        {
          "output_type": "execute_result",
          "data": {
            "text/plain": [
              "0      2\n",
              "1      2\n",
              "2      2\n",
              "3      2\n",
              "4      2\n",
              "      ..\n",
              "694    2\n",
              "695    2\n",
              "696    4\n",
              "697    4\n",
              "698    4\n",
              "Name: class, Length: 683, dtype: int64"
            ]
          },
          "metadata": {
            "tags": []
          },
          "execution_count": 86
        },
        {
          "output_type": "display_data",
          "data": {
            "image/png": "[encoded data removed]",
            "text/plain": [
              "<Figure size 432x288 with 1 Axes>"
            ]
          },
          "metadata": {
            "tags": [],
            "needs_background": "light"
          }
        }
      ]
    },
    {
      "cell_type": "code",
      "metadata": {
        "colab": {
          "base_uri": "https://localhost:8080/"
        },
        "id": "G4PBUHMnO-NP",
        "outputId": "6382b504-3e2f-458e-d32c-75d3f69e5b73"
      },
      "source": [
        "df['class'] = np.where(df['class'] == 2,0,1)"
      ],
      "execution_count": null,
      "outputs": [
        {
          "output_type": "stream",
          "text": [
            "/usr/local/lib/python3.6/dist-packages/ipykernel_launcher.py:1: SettingWithCopyWarning: \n",
            "A value is trying to be set on a copy of a slice from a DataFrame.\n",
            "Try using .loc[row_indexer,col_indexer] = value instead\n",
            "\n",
            "See the caveats in the documentation: https://pandas.pydata.org/pandas-docs/stable/user_guide/indexing.html#returning-a-view-versus-a-copy\n",
            "  \"\"\"Entry point for launching an IPython kernel.\n"
          ],
          "name": "stderr"
        }
      ]
    },
    {
      "cell_type": "code",
      "metadata": {
        "id": "54uPU1zKPGQS"
      },
      "source": [
        "train,test = train_test_split(df,test_size=0.2)\r\n"
      ],
      "execution_count": null,
      "outputs": []
    },
    {
      "cell_type": "code",
      "metadata": {
        "id": "sC2gQFq4Plj8"
      },
      "source": [
        "train_stats = train.describe()\r\n",
        "train_stats.pop('class')\r\n",
        "train_stats = train_stats.transpose()"
      ],
      "execution_count": null,
      "outputs": []
    },
    {
      "cell_type": "code",
      "metadata": {
        "id": "r_OyrnbePvdd"
      },
      "source": [
        "train_y = train.pop('class')\r\n",
        "test_y = test.pop('class')"
      ],
      "execution_count": null,
      "outputs": []
    },
    {
      "cell_type": "code",
      "metadata": {
        "colab": {
          "base_uri": "https://localhost:8080/"
        },
        "id": "bO3FVo0ZP5Wf",
        "outputId": "51b53ddc-ef90-441b-d885-85849686fd75"
      },
      "source": [
        "df['class'].value_counts()"
      ],
      "execution_count": null,
      "outputs": [
        {
          "output_type": "execute_result",
          "data": {
            "text/plain": [
              "0    444\n",
              "1    239\n",
              "Name: class, dtype: int64"
            ]
          },
          "metadata": {
            "tags": []
          },
          "execution_count": 91
        }
      ]
    },
    {
      "cell_type": "code",
      "metadata": {
        "id": "oOjQBAtVQFDa"
      },
      "source": [
        "def norm(x):\r\n",
        "  return (x-train_stats['mean'])/train_stats['std']"
      ],
      "execution_count": null,
      "outputs": []
    },
    {
      "cell_type": "code",
      "metadata": {
        "id": "Mbg1Cjd3RmIA"
      },
      "source": [
        "norm_train_x = norm(train)\r\n",
        "norm_test_x = norm(test)"
      ],
      "execution_count": null,
      "outputs": []
    },
    {
      "cell_type": "code",
      "metadata": {
        "id": "tqcWQi8uTj0z"
      },
      "source": [
        "train_dataset = tf.data.Dataset.from_tensor_slices((norm_train_x.values,train_y.values))\r\n",
        "test_dataset = tf.data.Dataset.from_tensor_slices((norm_test_x.values,test_y.values))"
      ],
      "execution_count": null,
      "outputs": []
    },
    {
      "cell_type": "code",
      "metadata": {
        "id": "2qhBL4xbT5VG"
      },
      "source": [
        "batch_size=32\r\n",
        "train_dataset = train_dataset.shuffle(buffer_size=len(train)).batch(batch_size)\r\n",
        "test_dataset = test_dataset.batch(batch_size)\r\n"
      ],
      "execution_count": null,
      "outputs": []
    },
    {
      "cell_type": "code",
      "metadata": {
        "colab": {
          "base_uri": "https://localhost:8080/"
        },
        "id": "4BgsUt8aVocL",
        "outputId": "964311b4-f586-4756-d339-b3d1c792a8b3"
      },
      "source": [
        "a = enumerate(train_dataset)\r\n",
        "print(len(list(a)))"
      ],
      "execution_count": null,
      "outputs": [
        {
          "output_type": "stream",
          "text": [
            "18\n"
          ],
          "name": "stdout"
        }
      ]
    },
    {
      "cell_type": "code",
      "metadata": {
        "id": "maKELzMhVv9N"
      },
      "source": [
        "optimizer = tf.keras.optimizers.RMSprop(learning_rate=0.001)\r\n",
        "loss_value = tf.keras.losses.BinaryCrossentropy()"
      ],
      "execution_count": null,
      "outputs": []
    },
    {
      "cell_type": "code",
      "metadata": {
        "id": "WdZti4MaWmDg"
      },
      "source": [
        "def base_model():\r\n",
        "  inputs = tf.keras.layers.Input(shape=(len(train.columns)))\r\n",
        "  x = tf.keras.layers.Dense(128,activation = 'relu')(inputs)\r\n",
        "  x=  tf.keras.layers.Dense(64,activation='relu')(x)\r\n",
        "  x = tf.keras.layers.Dense(1,activation='sigmoid')(x)\r\n",
        "  model = Model(inputs =inputs,outputs=x)\r\n",
        "  return model"
      ],
      "execution_count": null,
      "outputs": []
    },
    {
      "cell_type": "code",
      "metadata": {
        "id": "ubrs7KAAaXzX"
      },
      "source": [
        "model = base_model()"
      ],
      "execution_count": null,
      "outputs": []
    },
    {
      "cell_type": "code",
      "metadata": {
        "id": "EHpA5hPnaZhd"
      },
      "source": [
        "outputs = model(norm_test_x.values)"
      ],
      "execution_count": null,
      "outputs": []
    },
    {
      "cell_type": "code",
      "metadata": {
        "id": "oay3HVN1cGnm"
      },
      "source": [
        "def plot_confusion_matrix(y_true, y_pred, title='', labels=[0,1]):\r\n",
        "    cm = confusion_matrix(y_true, y_pred)\r\n",
        "    fig = plt.figure()\r\n",
        "    ax = fig.add_subplot(111)\r\n",
        "    cax = ax.matshow(cm)\r\n",
        "    plt.title(title)\r\n",
        "    fig.colorbar(cax)\r\n",
        "    ax.set_xticklabels([''] + labels)\r\n",
        "    ax.set_yticklabels([''] + labels)\r\n",
        "    plt.xlabel('Predicted')\r\n",
        "    plt.ylabel('True')\r\n",
        "    fmt = 'd'\r\n",
        "    thresh = cm.max() / 2.\r\n",
        "    for i, j in itertools.product(range(cm.shape[0]), range(cm.shape[1])):\r\n",
        "          plt.text(j, i, format(cm[i, j], fmt),\r\n",
        "                  horizontalalignment=\"center\",\r\n",
        "                  color=\"black\" if cm[i, j] > thresh else \"white\")\r\n",
        "    plt.show()"
      ],
      "execution_count": null,
      "outputs": []
    },
    {
      "cell_type": "code",
      "metadata": {
        "colab": {
          "base_uri": "https://localhost:8080/",
          "height": 289
        },
        "id": "Z9cKWwEGcTc3",
        "outputId": "9462e684-915d-47d5-f700-7c1ca4bf83be"
      },
      "source": [
        "plot_confusion_matrix(test_y.values,tf.round(outputs),title='Confusion Matrix for untrained model')"
      ],
      "execution_count": null,
      "outputs": [
        {
          "output_type": "display_data",
          "data": {
            "image/png": "[encoded data removed]",
            "text/plain": [
              "<Figure size 432x288 with 2 Axes>"
            ]
          },
          "metadata": {
            "tags": [],
            "needs_background": "light"
          }
        }
      ]
    },
    {
      "cell_type": "code",
      "metadata": {
        "id": "bNaNhRZLe_mv"
      },
      "source": [
        "class F1_score(tf.keras.metrics.Metric):\r\n",
        "  def __init__(self,name='F1_score',**kwargs):\r\n",
        "    super(F1_score,self).__init__(name=name,**kwargs)\r\n",
        "    self.tp = tf.Variable(0,dtype='int32')\r\n",
        "    self.fp = tf.Variable(0,dtype='int32')\r\n",
        "    self.tn = tf.Variable(0,dtype='int32')\r\n",
        "    self.fn= tf.Variable(0,dtype='int32')\r\n",
        "  def update_state(self,y_true,y_pred,sample_weight=None):\r\n",
        "    confusion_matrix = tf.math.confusion_matrix(y_true,y_pred,num_classes=2)\r\n",
        "    self.tn.assign_add(confusion_matrix[0][0])\r\n",
        "    self.tp.assign_add(confusion_matrix[1][1])\r\n",
        "    self.fn.assign_add(confusion_matrix[1][0])\r\n",
        "    self.fp.assign_add(confusion_matrix[0][1])\r\n",
        "  def result(self):\r\n",
        "    if (self.tp +self.fp ==0):\r\n",
        "      precision = 1.0\r\n",
        "    else:\r\n",
        "      precision = self.tp/(self.tp+self.fp)\r\n",
        "    if (self.tp+self.fn == 0):\r\n",
        "      recall= 1.0\r\n",
        "    else:\r\n",
        "      recall = self.tp/(self.tp+self.fn)\r\n",
        "    f1_score = 2*((precision*recall)/(precision+recall))\r\n",
        "    return f1_score\r\n",
        "  def reset_states(self):\r\n",
        "    self.tp.assign(0)\r\n",
        "    self.tn.assign(0)\r\n",
        "    self.fp.assign(0)\r\n",
        "    self.fn.assign(0)"
      ],
      "execution_count": null,
      "outputs": []
    },
    {
      "cell_type": "code",
      "metadata": {
        "colab": {
          "base_uri": "https://localhost:8080/"
        },
        "id": "mk1-FgS6sndG",
        "outputId": "d4f2a7d8-2d42-4501-9daf-f4b5fae3c52f"
      },
      "source": [
        "test_f1_score = F1_score()\r\n",
        "test_f1_score.tp=tf.Variable(2,dtype='int32')\r\n",
        "test_f1_score.fp=tf.Variable(5,dtype='int32')\r\n",
        "test_f1_score.tn=tf.Variable(7,dtype='int32')\r\n",
        "test_f1_score.fn=tf.Variable(9,dtype='int32')\r\n",
        "test_f1_score.result()"
      ],
      "execution_count": null,
      "outputs": [
        {
          "output_type": "execute_result",
          "data": {
            "text/plain": [
              "<tf.Tensor: shape=(), dtype=float64, numpy=0.2222222222222222>"
            ]
          },
          "metadata": {
            "tags": []
          },
          "execution_count": 127
        }
      ]
    },
    {
      "cell_type": "code",
      "metadata": {
        "id": "___2gbmcvj8N"
      },
      "source": [
        "train_f1_score_metric = F1_score()\r\n",
        "val_f1_score_metric = F1_score()\r\n",
        "train_acc_metrics = tf.keras.metrics.BinaryAccuracy()\r\n",
        "val_acc_metrics = tf.keras.metrics.BinaryAccuracy()"
      ],
      "execution_count": null,
      "outputs": []
    },
    {
      "cell_type": "code",
      "metadata": {
        "id": "l34I93Jlx1vk"
      },
      "source": [
        "def apply_gradient(optimizer,loss_object,model,x,y):\r\n",
        "  with tf.GradientTape() as tape:\r\n",
        "    logits = model(x)\r\n",
        "    loss_value = loss_object(y_true= y,y_pred = logits)\r\n",
        "  gradients = tape.gradient(loss_value,model.trainable_weights)\r\n",
        "  optimizer.apply_gradients(zip(gradients,model.trainable_weights))\r\n",
        "  return logits,loss_value"
      ],
      "execution_count": null,
      "outputs": []
    },
    {
      "cell_type": "code",
      "metadata": {
        "id": "qhQJO1xHzL3S"
      },
      "source": [
        ""
      ],
      "execution_count": null,
      "outputs": []
    },
    {
      "cell_type": "code",
      "metadata": {
        "id": "nyjDbMAWzTmR"
      },
      "source": [
        "def train_for_one_epoch(train_dataset,optimizer,loss_object,model,train_acc_metrics,train_f1_score_metric,verbose=True):\r\n",
        "  losses = []\r\n",
        "  for step,(x_batch_train,y_batch_train) in enumerate(train_dataset):\r\n",
        "    logits,loss_value = apply_gradient(optimizer,loss_object,model,x_batch_train,y_batch_train)\r\n",
        "    losses.append(loss_value)\r\n",
        "    logits = tf.round(logits)\r\n",
        "    logits = tf.cast(logits,'int64')\r\n",
        "    train_acc_metrics.update_state(y_batch_train,logits)\r\n",
        "    train_f1_score_metric.update_state(y_batch_train,logits)\r\n",
        "    if verbose:\r\n",
        "      print('Training Loss for step %s: %.4f'%(int(step),float(loss_value)))\r\n",
        "  return losses"
      ],
      "execution_count": null,
      "outputs": []
    },
    {
      "cell_type": "code",
      "metadata": {
        "id": "duQyr9DR8cXH"
      },
      "source": [
        "def perform_validation():\r\n",
        "  losses =[]\r\n",
        "  for x_val,y_val in test_dataset:\r\n",
        "    logits = model(x_val)\r\n",
        "    loss = loss_value(y_true=y_val,y_pred=logits)\r\n",
        "    losses.append(loss)\r\n",
        "    val_logits = tf.cast(tf.round(model(x_val)),'int64')\r\n",
        "    val_acc_metrics.update_state(y_val,val_logits)\r\n",
        "    val_f1_score_metric.update_state(y_val,val_logits)\r\n",
        "  return losses"
      ],
      "execution_count": null,
      "outputs": []
    },
    {
      "cell_type": "code",
      "metadata": {
        "id": "fHXzde8UBFQS",
        "colab": {
          "base_uri": "https://localhost:8080/"
        },
        "outputId": "fb996b82-d953-484b-b541-09478fc36dc2"
      },
      "source": [
        "epochs = 5\r\n",
        "epochs_val_losses,epochs_train_losses =[],[]\r\n",
        "for epoch in range(epochs):\r\n",
        "  print('Start of epoch : %d'%(epoch,))\r\n",
        "  losses_train = train_for_one_epoch(train_dataset,optimizer,loss_value,model,train_acc_metrics,train_f1_score_metric)\r\n",
        "  train_acc= train_acc_metrics.result()\r\n",
        "  val_acc = val_acc_metrics.result()\r\n",
        "  train_f1_score = train_f1_score_metric.result()\r\n",
        "  val_f1_score = val_f1_score_metric.result()\r\n",
        "  losses_val = perform_validation()\r\n",
        "  losses_val_mean = np.mean(losses_val)\r\n",
        "  losses_train_mean = np.mean(losses_train)\r\n",
        "  epochs_val_losses.append(losses_val_mean)\r\n",
        "  epochs_train_losses.append(losses_train_mean)\r\n",
        "  print('\\n Epcoh %s: Train loss: %.4f  Validation Loss: %.4f, Train Accuracy: %.4f, Validation Accuracy %.4f, Train F1 Score: %.4f, Validation F1 Score: %.4f' % (epoch, float(losses_train_mean), float(losses_val_mean), float(train_acc), float(val_acc), train_f1_score, val_f1_score))\r\n",
        "  train_acc_metrics.reset_states()\r\n",
        "  val_acc_metrics.reset_states()\r\n",
        "  val_f1_score_metric.reset_states()\r\n",
        "  train_f1_score_metric.reset_states()"
      ],
      "execution_count": null,
      "outputs": [
        {
          "output_type": "stream",
          "text": [
            "Start of epoch : 0\n",
            "Training Loss for step 0: 0.0138\n",
            "Training Loss for step 1: 0.0087\n",
            "Training Loss for step 2: 0.0142\n",
            "Training Loss for step 3: 0.1168\n",
            "Training Loss for step 4: 0.0126\n",
            "Training Loss for step 5: 0.0566\n",
            "Training Loss for step 6: 0.1238\n",
            "Training Loss for step 7: 0.0628\n",
            "Training Loss for step 8: 0.0031\n",
            "Training Loss for step 9: 0.0493\n",
            "Training Loss for step 10: 0.0963\n",
            "Training Loss for step 11: 0.0394\n",
            "Training Loss for step 12: 0.0134\n",
            "Training Loss for step 13: 0.0158\n",
            "Training Loss for step 14: 0.0413\n",
            "Training Loss for step 15: 0.0047\n",
            "Training Loss for step 16: 0.0104\n",
            "Training Loss for step 17: 0.0058\n",
            "\n",
            " Epcoh 0: Train loss: 0.0383  Validation Loss: 0.2245, Train Accuracy: 0.9826, Validation Accuracy 0.0000, Train F1 Score: 0.9745, Validation F1 Score: 1.0000\n",
            "Start of epoch : 1\n",
            "Training Loss for step 0: 0.0364\n",
            "Training Loss for step 1: 0.0035\n",
            "Training Loss for step 2: 0.0219\n",
            "Training Loss for step 3: 0.1264\n",
            "Training Loss for step 4: 0.0433\n",
            "Training Loss for step 5: 0.1112\n",
            "Training Loss for step 6: 0.0591\n",
            "Training Loss for step 7: 0.0744\n",
            "Training Loss for step 8: 0.0021\n",
            "Training Loss for step 9: 0.0092\n",
            "Training Loss for step 10: 0.0348\n",
            "Training Loss for step 11: 0.0209\n",
            "Training Loss for step 12: 0.0092\n",
            "Training Loss for step 13: 0.0032\n",
            "Training Loss for step 14: 0.0160\n",
            "Training Loss for step 15: 0.0498\n",
            "Training Loss for step 16: 0.0445\n",
            "Training Loss for step 17: 0.0026\n",
            "\n",
            " Epcoh 1: Train loss: 0.0371  Validation Loss: 0.2306, Train Accuracy: 0.9844, Validation Accuracy 0.0000, Train F1 Score: 0.9771, Validation F1 Score: 1.0000\n",
            "Start of epoch : 2\n",
            "Training Loss for step 0: 0.0114\n",
            "Training Loss for step 1: 0.0008\n",
            "Training Loss for step 2: 0.0037\n",
            "Training Loss for step 3: 0.1253\n",
            "Training Loss for step 4: 0.0688\n",
            "Training Loss for step 5: 0.0277\n",
            "Training Loss for step 6: 0.0122\n",
            "Training Loss for step 7: 0.0103\n",
            "Training Loss for step 8: 0.1156\n",
            "Training Loss for step 9: 0.0116\n",
            "Training Loss for step 10: 0.0427\n",
            "Training Loss for step 11: 0.0788\n",
            "Training Loss for step 12: 0.0176\n",
            "Training Loss for step 13: 0.0446\n",
            "Training Loss for step 14: 0.0051\n",
            "Training Loss for step 15: 0.0541\n",
            "Training Loss for step 16: 0.0145\n",
            "Training Loss for step 17: 0.0080\n",
            "\n",
            " Epcoh 2: Train loss: 0.0363  Validation Loss: 0.2353, Train Accuracy: 0.9861, Validation Accuracy 0.0000, Train F1 Score: 0.9797, Validation F1 Score: 1.0000\n",
            "Start of epoch : 3\n",
            "Training Loss for step 0: 0.0883\n",
            "Training Loss for step 1: 0.0009\n",
            "Training Loss for step 2: 0.0100\n",
            "Training Loss for step 3: 0.0472\n",
            "Training Loss for step 4: 0.1230\n",
            "Training Loss for step 5: 0.0199\n",
            "Training Loss for step 6: 0.0229\n",
            "Training Loss for step 7: 0.0071\n",
            "Training Loss for step 8: 0.0434\n",
            "Training Loss for step 9: 0.0069\n",
            "Training Loss for step 10: 0.0202\n",
            "Training Loss for step 11: 0.0315\n",
            "Training Loss for step 12: 0.0044\n",
            "Training Loss for step 13: 0.1140\n",
            "Training Loss for step 14: 0.0243\n",
            "Training Loss for step 15: 0.0400\n",
            "Training Loss for step 16: 0.0126\n",
            "Training Loss for step 17: 0.0112\n",
            "\n",
            " Epcoh 3: Train loss: 0.0349  Validation Loss: 0.2418, Train Accuracy: 0.9878, Validation Accuracy 0.0000, Train F1 Score: 0.9822, Validation F1 Score: 1.0000\n",
            "Start of epoch : 4\n",
            "Training Loss for step 0: 0.0062\n",
            "Training Loss for step 1: 0.1236\n",
            "Training Loss for step 2: 0.0067\n",
            "Training Loss for step 3: 0.0417\n",
            "Training Loss for step 4: 0.1087\n",
            "Training Loss for step 5: 0.0036\n",
            "Training Loss for step 6: 0.0031\n",
            "Training Loss for step 7: 0.0346\n",
            "Training Loss for step 8: 0.0102\n",
            "Training Loss for step 9: 0.0185\n",
            "Training Loss for step 10: 0.0367\n",
            "Training Loss for step 11: 0.0075\n",
            "Training Loss for step 12: 0.0033\n",
            "Training Loss for step 13: 0.1236\n",
            "Training Loss for step 14: 0.0140\n",
            "Training Loss for step 15: 0.0045\n",
            "Training Loss for step 16: 0.0412\n",
            "Training Loss for step 17: 0.0002\n",
            "\n",
            " Epcoh 4: Train loss: 0.0327  Validation Loss: 0.2460, Train Accuracy: 0.9878, Validation Accuracy 0.0000, Train F1 Score: 0.9822, Validation F1 Score: 1.0000\n"
          ],
          "name": "stdout"
        }
      ]
    },
    {
      "cell_type": "code",
      "metadata": {
        "colab": {
          "base_uri": "https://localhost:8080/",
          "height": 281
        },
        "id": "zvZg34nCH5xG",
        "outputId": "8d5f6fc2-62cf-4243-8acf-7bf5326c0fbd"
      },
      "source": [
        "def plot_metrics(train_metric, val_metric, metric_name, title, ylim=5):\r\n",
        "    plt.title(title)\r\n",
        "    plt.ylim(0,ylim)\r\n",
        "    plt.gca().xaxis.set_major_locator(mticker.MultipleLocator(1))\r\n",
        "    plt.plot(train_metric,color='blue',label=metric_name)\r\n",
        "    plt.plot(val_metric,color='green',label='val_' + metric_name)\r\n",
        "\r\n",
        "plot_metrics(epochs_train_losses, epochs_val_losses, \"Loss\", \"Loss\", ylim=1.0)"
      ],
      "execution_count": null,
      "outputs": [
        {
          "output_type": "display_data",
          "data": {
            "image/png": "[encoded data removed]",
            "text/plain": [
              "<Figure size 432x288 with 1 Axes>"
            ]
          },
          "metadata": {
            "tags": [],
            "needs_background": "light"
          }
        }
      ]
    },
    {
      "cell_type": "code",
      "metadata": {
        "colab": {
          "base_uri": "https://localhost:8080/",
          "height": 289
        },
        "id": "Iws864qBK6rG",
        "outputId": "3ce4aa18-8026-4252-d04b-03f70c03a30f"
      },
      "source": [
        "\r\n",
        "test_outputs = model(norm_test_x.values)\r\n",
        "plot_confusion_matrix(test_y.values, tf.round(test_outputs), title='Confusion Matrix for Untrained Model')"
      ],
      "execution_count": null,
      "outputs": [
        {
          "output_type": "display_data",
          "data": {
            "image/png": "[encoded data removed]",
            "text/plain": [
              "<Figure size 432x288 with 2 Axes>"
            ]
          },
          "metadata": {
            "tags": [],
            "needs_background": "light"
          }
        }
      ]
    },
    {
      "cell_type": "code",
      "metadata": {
        "id": "Jg_5vu0SLEFe"
      },
      "source": [
        ""
      ],
      "execution_count": null,
      "outputs": []
    }
  ]
}